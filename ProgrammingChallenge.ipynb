{
  "metadata": {
    "kernelspec": {
      "name": "python",
      "display_name": "Python (Pyodide)",
      "language": "python"
    },
    "language_info": {
      "codemirror_mode": {
        "name": "python",
        "version": 3
      },
      "file_extension": ".py",
      "mimetype": "text/x-python",
      "name": "python",
      "nbconvert_exporter": "python",
      "pygments_lexer": "ipython3",
      "version": "3.8"
    }
  },
  "nbformat_minor": 4,
  "nbformat": 4,
  "cells": [
    {
      "cell_type": "markdown",
      "source": "Tom wants to check prices of a stock with symbol ABC. He has managed to obtain the price from multiple exchanges in a numerical array.\nCan you help him return the lowest price in the array?",
      "metadata": {
        "tags": [],
        "editable": false,
        "slideshow": {
          "slide_type": ""
        }
      }
    },
    {
      "cell_type": "code",
      "source": "prices = [1.523, 1.524, 1.522, 1.521]",
      "metadata": {
        "trusted": true,
        "tags": [],
        "editable": false,
        "slideshow": {
          "slide_type": ""
        }
      },
      "outputs": [],
      "execution_count": 5
    },
    {
      "cell_type": "code",
      "source": "def lowest_price(prices):\n    #fix this function!\n    return prices[0]",
      "metadata": {
        "trusted": true,
        "tags": [],
        "editable": true,
        "slideshow": {
          "slide_type": ""
        }
      },
      "outputs": [],
      "execution_count": 6
    },
    {
      "cell_type": "code",
      "source": "print(lowest_price(prices))",
      "metadata": {
        "trusted": true,
        "tags": [],
        "editable": false,
        "slideshow": {
          "slide_type": ""
        }
      },
      "outputs": [
        {
          "name": "stdout",
          "text": "1.523\n",
          "output_type": "stream"
        }
      ],
      "execution_count": 7
    },
    {
      "cell_type": "code",
      "source": "import unittest\n\nclass TestLowestPrice(unittest.TestCase):\n    def test_single_entry(self):\n        testcase=[0.6]\n        self.assertEqual(lowest_price(testcase), 0.6)\n    def test_multiple_identical(self):\n        testcase=[0.24,0.21,0.23,0.21]\n        self.assertEqual(lowest_price(testcase), 0.21)\n    def test_small_numbers(self):\n        testcase=[0.00000000009999,0.000000321,0.00023,0.00051]\n        self.assertEqual(lowest_price(testcase), 0.00000000009999)\n\nunittest.main(argv=[''], verbosity=2, exit=False)",
      "metadata": {
        "trusted": true,
        "tags": [],
        "editable": false,
        "slideshow": {
          "slide_type": ""
        }
      },
      "outputs": [
        {
          "name": "stderr",
          "text": "test_multiple_identical (__main__.TestLowestPrice.test_multiple_identical) ... FAIL\ntest_single_entry (__main__.TestLowestPrice.test_single_entry) ... ok\ntest_small_numbers (__main__.TestLowestPrice.test_small_numbers) ... ok\n\n======================================================================\nFAIL: test_multiple_identical (__main__.TestLowestPrice.test_multiple_identical)\n----------------------------------------------------------------------\nTraceback (most recent call last):\n  File \"<ipython-input-9-661f5eeeb504>\", line 9, in test_multiple_identical\n    self.assertEqual(lowest_price(testcase), 0.21)\nAssertionError: 0.24 != 0.21\n\n----------------------------------------------------------------------\nRan 3 tests in 0.002s\n\nFAILED (failures=1)\n",
          "output_type": "stream"
        },
        {
          "execution_count": 9,
          "output_type": "execute_result",
          "data": {
            "text/plain": "<unittest.main.TestProgram at 0x11823f0>"
          },
          "metadata": {}
        }
      ],
      "execution_count": 9
    },
    {
      "cell_type": "code",
      "source": "",
      "metadata": {
        "trusted": true,
        "tags": [],
        "editable": true,
        "slideshow": {
          "slide_type": ""
        }
      },
      "outputs": [],
      "execution_count": null
    }
  ]
}